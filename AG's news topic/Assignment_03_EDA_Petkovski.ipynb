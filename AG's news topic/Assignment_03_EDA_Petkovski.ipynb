{
  "cells": [
    {
      "cell_type": "markdown",
      "metadata": {
        "id": "Cfh9kVB-rpjo"
      },
      "source": [
        "<img src=\"https://github.com/djp840/MSDS_458_Public/blob/main/images2/NorthwesternHeader.png?raw=1\" />"
      ]
    },
    {
      "cell_type": "markdown",
      "metadata": {
        "id": "pRAx1f1ir1St"
      },
      "source": [
        "## MSDS458 Research Assignment 3"
      ]
    },
    {
      "cell_type": "markdown",
      "metadata": {
        "id": "jQnyR1_aFk-t"
      },
      "source": [
        "### Analyze AG_NEWS_SUBSET Data <br>\n",
        "\n",
        "AG is a collection of more than 1 million news articles. News articles have been gathered from more than 2000 news sources by ComeToMyHead in more than 1 year of activity. ComeToMyHead is an academic news search engine which has been running since July, 2004. The dataset is provided by the academic comunity for research purposes in data mining (clustering, classification, etc), information retrieval (ranking, search, etc), xml, data compression, data streaming, and any other non-commercial activity.<br>\n",
        "\n",
        "For more information, please refer to the link http://www.di.unipi.it/~gulli/AG_corpus_of_news_articles.html<br>\n",
        "\n",
        "\n",
        "The AG's news topic classification dataset is constructed by choosing 4 largest classes (**World**, **Sports**, **Business**, and **Sci/Tech**) from the original corpus. Each class contains 30,000 training samples and 1,900 testing samples. The total number of training samples is 120,000 and testing 7,600.<br>\n",
        "\n",
        "Homepage: https://arxiv.org/abs/1509.01626<br>\n",
        "\n",
        "Source code: tfds.text.AGNewsSubset\n",
        "\n",
        "Versions:\n",
        "\n",
        "1.0.0 (default): No release notes.\n",
        "Download size: 11.24 MiB\n",
        "\n",
        "Dataset size: 35.79 MiB"
      ]
    },
    {
      "cell_type": "markdown",
      "metadata": {
        "id": "oGBlk-2-NaCn"
      },
      "source": [
        "<div class=\"alert alert-block alert-success\">\n",
        "    <b>More Technical</b>: Throughout the notebook. This types of boxes provide more technical details and extra references about what you are seeing. They contain helpful tips, but you can safely skip them the first time you run through the code.\n",
        "</div>"
      ]
    },
    {
      "cell_type": "markdown",
      "metadata": {
        "id": "t-Jjr3rNr5PR"
      },
      "source": [
        "## Import packages"
      ]
    },
    {
      "cell_type": "code",
      "execution_count": null,
      "metadata": {
        "id": "mbrX9qUZvfs1"
      },
      "outputs": [],
      "source": [
        "import datetime\n",
        "from packaging import version\n",
        "from collections import Counter\n",
        "import numpy as np\n",
        "import pandas as pd\n",
        "import time\n",
        "import os\n",
        "import re\n",
        "import string\n",
        "\n",
        "import matplotlib.pyplot as plt\n",
        "import matplotlib as mpl\n",
        "import seaborn as sns\n",
        "\n",
        "import nltk\n",
        "from nltk.corpus import stopwords\n",
        "\n",
        "from sklearn.metrics import confusion_matrix, classification_report\n",
        "from sklearn.preprocessing import StandardScaler\n",
        "from sklearn.decomposition import PCA\n",
        "from sklearn.manifold import TSNE\n",
        "from sklearn.ensemble import RandomForestClassifier\n",
        "from sklearn.metrics import mean_squared_error as MSE\n",
        "from sklearn.metrics import accuracy_score\n",
        "\n",
        "import tensorflow as tf\n",
        "from tensorflow.keras import layers, models\n",
        "from tensorflow import keras\n",
        "import tensorflow_datasets as tfds\n",
        "from tensorflow import keras\n",
        "from tensorflow.keras import layers\n",
        "import tensorflow.keras.backend as k\n",
        "from tensorflow.keras.layers import TextVectorization"
      ]
    },
    {
      "cell_type": "code",
      "execution_count": null,
      "metadata": {
        "id": "q0H8HuzHrWwN"
      },
      "outputs": [],
      "source": [
        "%matplotlib inline\n",
        "np.set_printoptions(precision=3, suppress=True)"
      ]
    },
    {
      "cell_type": "markdown",
      "metadata": {
        "id": "iKucNfkrsqrP"
      },
      "source": [
        "## Verify TensorFlow Version"
      ]
    },
    {
      "cell_type": "code",
      "execution_count": null,
      "metadata": {
        "colab": {
          "base_uri": "https://localhost:8080/"
        },
        "id": "g_BoGg9JrWzj",
        "outputId": "fc0340ac-7218-44d8-c7cc-016b2de44edd"
      },
      "outputs": [
        {
          "output_type": "stream",
          "name": "stdout",
          "text": [
            "This notebook requires TensorFlow 2.0 or above\n",
            "TensorFlow version:  2.15.0\n"
          ]
        }
      ],
      "source": [
        "print(\"This notebook requires TensorFlow 2.0 or above\")\n",
        "print(\"TensorFlow version: \", tf.__version__)\n",
        "assert version.parse(tf.__version__).release[0] >=2"
      ]
    },
    {
      "cell_type": "markdown",
      "metadata": {
        "id": "BqAEjDjgzP0_"
      },
      "source": [
        "## Visualization Utility Functions"
      ]
    },
    {
      "cell_type": "code",
      "execution_count": null,
      "metadata": {
        "id": "QnH12paHzP0_"
      },
      "outputs": [],
      "source": [
        "def print_validation_report(test_labels, predictions):\n",
        "    print(\"Classification Report\")\n",
        "    print(classification_report(test_labels, predictions))\n",
        "    print('Accuracy Score: {}'.format(accuracy_score(test_labels, predictions)))\n",
        "    print('Root Mean Square Error: {}'.format(np.sqrt(MSE(test_labels, predictions))))\n",
        "\n",
        "def plot_confusion_matrix(y_true, y_pred):\n",
        "    mtx = confusion_matrix(y_true, y_pred)\n",
        "    fig, ax = plt.subplots(figsize=(8,8))\n",
        "    sns.heatmap(mtx, annot=True, fmt='d', linewidths=.75,  cbar=False, ax=ax,cmap='Blues',linecolor='white')\n",
        "    #  square=True,\n",
        "    plt.ylabel('true label')\n",
        "    plt.xlabel('predicted label')\n",
        "\n",
        "def plot_graphs(history, metric):\n",
        "  plt.plot(history.history[metric])\n",
        "  plt.plot(history.history['val_'+metric], '')\n",
        "  plt.xlabel(\"Epochs\")\n",
        "  plt.ylabel(metric)\n",
        "  plt.legend([metric, 'val_'+metric])\n",
        "\n",
        "def display_training_curves(training, validation, title, subplot):\n",
        "  ax = plt.subplot(subplot)\n",
        "  ax.plot(training)\n",
        "  ax.plot(validation)\n",
        "  ax.set_title('model '+ title)\n",
        "  ax.set_ylabel(title)\n",
        "  ax.set_xlabel('epoch')\n",
        "  ax.legend(['training', 'validation'])"
      ]
    },
    {
      "cell_type": "markdown",
      "metadata": {
        "id": "-mFyXjJmtJ3E"
      },
      "source": [
        "## Mount Google Drive to Colab Environment"
      ]
    },
    {
      "cell_type": "code",
      "execution_count": null,
      "metadata": {
        "id": "CXm3H81YrW8-"
      },
      "outputs": [],
      "source": [
        "#from google.colab import drive\n",
        "#drive.mount('/content/gdrive')"
      ]
    },
    {
      "cell_type": "markdown",
      "metadata": {
        "id": "8e2r4vSYzP1B"
      },
      "source": [
        "### Load AG News Subset Data\n",
        "<div class=\"alert alert-block alert-info\">\n",
        "    <b> ag_news_subset</b><br>\n",
        "    See https://www.tensorflow.org/datasets/catalog/ag_news_subset\n",
        "    </div>"
      ]
    },
    {
      "cell_type": "markdown",
      "metadata": {
        "id": "cL3ewSkAF4yF"
      },
      "source": [
        "Get all the words in the documents (as well as the number of words in each document) by using the encoder to get the indices associated with each token and then translating the indices to tokens. But first we need to get the \"unpadded\" new articles so that we can get their length."
      ]
    },
    {
      "cell_type": "code",
      "execution_count": null,
      "metadata": {
        "colab": {
          "base_uri": "https://localhost:8080/"
        },
        "id": "9vupSsKiKYxH",
        "outputId": "a4a5aa81-ab42-44fd-c5ca-41587839d80f"
      },
      "outputs": [
        {
          "output_type": "stream",
          "name": "stdout",
          "text": [
            "INFO[build.py]: Loading dataset ag_news_subset from imports: tensorflow_datasets.datasets.ag_news_subset.ag_news_subset_dataset_builder\n",
            "2024-05-02 12:59:29.868676: E external/local_xla/xla/stream_executor/cuda/cuda_dnn.cc:9261] Unable to register cuDNN factory: Attempting to register factory for plugin cuDNN when one has already been registered\n",
            "2024-05-02 12:59:29.868747: E external/local_xla/xla/stream_executor/cuda/cuda_fft.cc:607] Unable to register cuFFT factory: Attempting to register factory for plugin cuFFT when one has already been registered\n",
            "2024-05-02 12:59:29.870794: E external/local_xla/xla/stream_executor/cuda/cuda_blas.cc:1515] Unable to register cuBLAS factory: Attempting to register factory for plugin cuBLAS when one has already been registered\n",
            "2024-05-02 12:59:31.339777: W tensorflow/compiler/tf2tensorrt/utils/py_utils.cc:38] TF-TRT Warning: Could not find TensorRT\n",
            "INFO[utils.py]: NumExpr defaulting to 2 threads.\n",
            "2024-05-02 12:59:33.960340: W external/local_tsl/tsl/platform/cloud/google_auth_provider.cc:184] All attempts to get a Google authentication bearer token failed, returning an empty token. Retrieving token from files failed with \"NOT_FOUND: Could not locate the credentials file.\". Retrieving token from GCE failed with \"NOT_FOUND: Error executing an HTTP request: HTTP response code 404\".\n",
            "INFO[dataset_info.py]: Load pre-computed DatasetInfo (eg: splits, num examples,...) from GCS: ag_news_subset/1.0.0\n",
            "INFO[dataset_info.py]: Load dataset info from /tmp/tmp43it9_8stfds\n",
            "INFO[dataset_info.py]: For 'ag_news_subset/1.0.0': fields info.[description, splits, supervised_keys, module_name] differ on disk and in the code. Keeping the one from code.\n",
            "INFO[build.py]: download_and_prepare for dataset ag_news_subset/1.0.0...\n",
            "INFO[dataset_builder.py]: Generating dataset ag_news_subset (/root/tensorflow_datasets/ag_news_subset/1.0.0)\n",
            "\u001b[1mDownloading and preparing dataset 11.24 MiB (download: 11.24 MiB, generated: 35.79 MiB, total: 47.03 MiB) to /root/tensorflow_datasets/ag_news_subset/1.0.0...\u001b[0m\n",
            "Dl Completed...: 0 url [00:00, ? url/s]\n",
            "Dl Size...: 0 MiB [00:00, ? MiB/s]\u001b[A\n",
            "\n",
            "                                       \n",
            "\u001b[A\n",
            "\n",
            "\u001b[A\u001b[AINFO[download_manager.py]: Downloading https://drive.google.com/uc?export=download&id=0Bz8a_Dbh9QhbUDNpeUdjb0wxRms into /root/tensorflow_datasets/downloads/ucexport_download_id_0Bz8a_Dbh9QhbUDNpeUdjb0wxj4g1umFAV8OV-uDwxSJR0LdxO_k1jxMuFWwAfNX9jos.tmp.8d27afc8ccdb4d438e0dd1a1fc486a79...\n",
            "Dl Completed...: 0 url [00:00, ? url/s]\n",
            "Dl Size...: 0 MiB [00:00, ? MiB/s]\u001b[A\n",
            "\n",
            "Dl Completed...:   0% 0/1 [00:00<?, ? url/s]\n",
            "Dl Size...: 0 MiB [00:00, ? MiB/s]\u001b[A\n",
            "\n",
            "Dl Completed...:   0% 0/1 [00:18<?, ? url/s]\n",
            "Dl Size...:   0% 0/11 [00:18<?, ? MiB/s]\u001b[A\n",
            "\n",
            "Extraction completed...: 0 file [00:18, ? file/s]\u001b[A\u001b[A\n",
            "Dl Completed...:   0% 0/1 [00:18<?, ? url/s]\n",
            "Dl Size...:   9% 1/11 [00:18<03:02, 18.24s/ MiB]\u001b[A\n",
            "\n",
            "Dl Completed...:   0% 0/1 [00:18<?, ? url/s]\n",
            "Dl Size...:  18% 2/11 [00:18<02:44, 18.24s/ MiB]\u001b[A\n",
            "\n",
            "Dl Completed...:   0% 0/1 [00:18<?, ? url/s]\n",
            "Dl Size...:  27% 3/11 [00:18<02:25, 18.24s/ MiB]\u001b[A\n",
            "\n",
            "Dl Completed...:   0% 0/1 [00:18<?, ? url/s]\n",
            "Dl Size...:  36% 4/11 [00:18<02:07, 18.24s/ MiB]\u001b[A\n",
            "\n",
            "Dl Completed...:   0% 0/1 [00:18<?, ? url/s]\n",
            "Dl Size...:  45% 5/11 [00:18<01:49, 18.24s/ MiB]\u001b[A\n",
            "\n",
            "Dl Completed...:   0% 0/1 [00:18<?, ? url/s]\n",
            "Dl Size...:  55% 6/11 [00:18<01:31, 18.24s/ MiB]\u001b[A\n",
            "\n",
            "Dl Completed...:   0% 0/1 [00:18<?, ? url/s]\n",
            "Dl Size...:  64% 7/11 [00:18<01:12, 18.24s/ MiB]\u001b[A\n",
            "\n",
            "Dl Completed...:   0% 0/1 [00:18<?, ? url/s]\n",
            "Dl Size...:  73% 8/11 [00:18<00:54, 18.24s/ MiB]\u001b[A\n",
            "\n",
            "Dl Completed...:   0% 0/1 [00:18<?, ? url/s]\n",
            "Dl Size...:  82% 9/11 [00:18<00:36, 18.24s/ MiB]\u001b[A\n",
            "\n",
            "Dl Completed...:   0% 0/1 [00:18<?, ? url/s]\n",
            "Dl Size...:  91% 10/11 [00:18<00:18, 18.24s/ MiB]\u001b[A\n",
            "\n",
            "Dl Completed...:   0% 0/1 [00:18<?, ? url/s]\n",
            "Dl Size...: 100% 11/11 [00:18<00:00, 18.24s/ MiB]\u001b[A\n",
            "\n",
            "Dl Completed...: 100% 1/1 [00:18<00:00, 18.40s/ url]\n",
            "Dl Size...: 100% 11/11 [00:18<00:00, 18.24s/ MiB]\u001b[A\n",
            "\n",
            "Dl Completed...: 100% 1/1 [00:18<00:00, 18.40s/ url]\n",
            "Dl Size...: 100% 11/11 [00:18<00:00, 18.24s/ MiB]\u001b[A\n",
            "\n",
            "Dl Completed...: 100% 1/1 [00:18<00:00, 18.40s/ url]\n",
            "Dl Size...: 100% 11/11 [00:18<00:00, 18.24s/ MiB]\u001b[A\n",
            "\n",
            "Dl Completed...: 100% 1/1 [00:18<00:00, 18.40s/ url]\n",
            "Dl Size...: 100% 11/11 [00:18<00:00, 18.24s/ MiB]\u001b[A\n",
            "\n",
            "Dl Completed...: 100% 1/1 [00:18<00:00, 18.40s/ url]\n",
            "Dl Size...: 100% 11/11 [00:18<00:00, 18.24s/ MiB]\u001b[A\n",
            "\n",
            "Extraction completed...:   0% 0/4 [00:18<?, ? file/s]\u001b[A\u001b[A\n",
            "\n",
            "Dl Completed...: 100% 1/1 [00:18<00:00, 18.40s/ url]\n",
            "Dl Size...: 100% 11/11 [00:18<00:00, 18.24s/ MiB]\u001b[A\n",
            "\n",
            "Dl Completed...: 100% 1/1 [00:18<00:00, 18.40s/ url]\n",
            "Dl Size...: 100% 11/11 [00:18<00:00, 18.24s/ MiB]\u001b[A\n",
            "\n",
            "Dl Completed...: 100% 1/1 [00:18<00:00, 18.40s/ url]\n",
            "Dl Size...: 100% 11/11 [00:18<00:00, 18.24s/ MiB]\u001b[A\n",
            "\n",
            "Dl Completed...: 100% 1/1 [00:18<00:00, 18.40s/ url]\n",
            "Dl Size...: 100% 11/11 [00:18<00:00, 18.24s/ MiB]\u001b[A\n",
            "\n",
            "Extraction completed...: 100% 4/4 [00:18<00:00,  4.68s/ file]\n",
            "Dl Size...: 100% 11/11 [00:18<00:00,  1.70s/ MiB]\n",
            "Dl Completed...: 100% 1/1 [00:18<00:00, 18.72s/ url]\n",
            "Generating splits...:   0% 0/2 [00:00<?, ? splits/s]\n",
            "Generating train examples...:   0% 0/120000 [00:00<?, ? examples/s]\u001b[A\n",
            "Generating train examples...:   6% 7079/120000 [00:01<00:15, 7078.52 examples/s]\u001b[A\n",
            "Generating train examples...:  14% 16274/120000 [00:02<00:12, 8323.14 examples/s]\u001b[A\n",
            "Generating train examples...:  20% 24598/120000 [00:03<00:13, 7097.42 examples/s]\u001b[A\n",
            "Generating train examples...:  27% 31879/120000 [00:04<00:13, 6638.42 examples/s]\u001b[A\n",
            "Generating train examples...:  34% 40848/120000 [00:05<00:10, 7386.94 examples/s]\u001b[A\n",
            "Generating train examples...:  42% 50490/120000 [00:06<00:08, 8095.98 examples/s]\u001b[A\n",
            "Generating train examples...:  50% 60069/120000 [00:07<00:07, 8555.73 examples/s]\u001b[A\n",
            "Generating train examples...:  58% 69463/120000 [00:08<00:05, 8812.85 examples/s]\u001b[A\n",
            "Generating train examples...:  66% 78929/120000 [00:09<00:04, 9011.72 examples/s]\u001b[A\n",
            "Generating train examples...:  74% 88439/120000 [00:10<00:03, 9162.76 examples/s]\u001b[A\n",
            "Generating train examples...:  81% 97658/120000 [00:11<00:02, 9168.55 examples/s]\u001b[A\n",
            "Generating train examples...:  89% 107305/120000 [00:12<00:01, 9312.67 examples/s]\u001b[A\n",
            "Generating train examples...:  97% 116971/120000 [00:13<00:00, 9418.91 examples/s]\u001b[A\n",
            "                                                                                  \u001b[A\n",
            "Shuffling /root/tensorflow_datasets/ag_news_subset/1.0.0.incomplete45UJ45/ag_news_subset-train.tfrecord*...:   0% 0/120000 [00:00<?, ? examples/s]\u001b[A\n",
            "Shuffling /root/tensorflow_datasets/ag_news_subset/1.0.0.incomplete45UJ45/ag_news_subset-train.tfrecord*...:   0% 1/120000 [00:00<3:30:15,  9.51 examples/s]\u001b[A\n",
            "Shuffling /root/tensorflow_datasets/ag_news_subset/1.0.0.incomplete45UJ45/ag_news_subset-train.tfrecord*...:  32% 38025/120000 [00:00<00:00, 219033.88 examples/s]\u001b[A\n",
            "Shuffling /root/tensorflow_datasets/ag_news_subset/1.0.0.incomplete45UJ45/ag_news_subset-train.tfrecord*...:  64% 76370/120000 [00:00<00:00, 293246.20 examples/s]\u001b[A\n",
            "Shuffling /root/tensorflow_datasets/ag_news_subset/1.0.0.incomplete45UJ45/ag_news_subset-train.tfrecord*...:  97% 115818/120000 [00:00<00:00, 332924.11 examples/s]\u001b[A\n",
            "INFO[writer.py]: Done writing /root/tensorflow_datasets/ag_news_subset/1.0.0.incomplete45UJ45/ag_news_subset-train.tfrecord*. Number of examples: 120000 (shards: [120000])\n",
            "Generating splits...:  50% 1/2 [00:14<00:14, 14.37s/ splits]\n",
            "Generating test examples...:   0% 0/7600 [00:00<?, ? examples/s]\u001b[A\n",
            "Generating test examples...:  94% 7156/7600 [00:01<00:00, 7155.46 examples/s]\u001b[A\n",
            "                                                                             \u001b[A\n",
            "Shuffling /root/tensorflow_datasets/ag_news_subset/1.0.0.incomplete45UJ45/ag_news_subset-test.tfrecord*...:   0% 0/7600 [00:00<?, ? examples/s]\u001b[A\n",
            "INFO[writer.py]: Done writing /root/tensorflow_datasets/ag_news_subset/1.0.0.incomplete45UJ45/ag_news_subset-test.tfrecord*. Number of examples: 7600 (shards: [7600])\n",
            "\u001b[1mDataset ag_news_subset downloaded and prepared to /root/tensorflow_datasets/ag_news_subset/1.0.0. Subsequent calls will reuse this data.\u001b[0m\n",
            "INFO[build.py]: Dataset generation complete...\n",
            "\n",
            "tfds.core.DatasetInfo(\n",
            "    name='ag_news_subset',\n",
            "    full_name='ag_news_subset/1.0.0',\n",
            "    description=\"\"\"\n",
            "    AG is a collection of more than 1 million news articles. News articles have been\n",
            "    gathered from more than 2000 news sources by ComeToMyHead in more than 1 year of\n",
            "    activity. ComeToMyHead is an academic news search engine which has been running\n",
            "    since July, 2004. The dataset is provided by the academic comunity for research\n",
            "    purposes in data mining (clustering, classification, etc), information retrieval\n",
            "    (ranking, search, etc), xml, data compression, data streaming, and any other\n",
            "    non-commercial activity. For more information, please refer to the link\n",
            "    http://www.di.unipi.it/~gulli/AG_corpus_of_news_articles.html .\n",
            "    \n",
            "    The AG's news topic classification dataset is constructed by Xiang Zhang\n",
            "    (xiang.zhang@nyu.edu) from the dataset above. It is used as a text\n",
            "    classification benchmark in the following paper: Xiang Zhang, Junbo Zhao, Yann\n",
            "    LeCun. Character-level Convolutional Networks for Text Classification. Advances\n",
            "    in Neural Information Processing Systems 28 (NIPS 2015).\n",
            "    \n",
            "    The AG's news topic classification dataset is constructed by choosing 4 largest\n",
            "    classes from the original corpus. Each class contains 30,000 training samples\n",
            "    and 1,900 testing samples. The total number of training samples is 120,000 and\n",
            "    testing 7,600.\n",
            "    \"\"\",\n",
            "    homepage='https://arxiv.org/abs/1509.01626',\n",
            "    data_dir=PosixGPath('/tmp/tmp43it9_8stfds'),\n",
            "    file_format=tfrecord,\n",
            "    download_size=11.24 MiB,\n",
            "    dataset_size=35.79 MiB,\n",
            "    features=FeaturesDict({\n",
            "        'description': Text(shape=(), dtype=string),\n",
            "        'label': ClassLabel(shape=(), dtype=int64, num_classes=4),\n",
            "        'title': Text(shape=(), dtype=string),\n",
            "    }),\n",
            "    supervised_keys=('description', 'label'),\n",
            "    disable_shuffling=False,\n",
            "    splits={\n",
            "        'test': <SplitInfo num_examples=7600, num_shards=1>,\n",
            "        'train': <SplitInfo num_examples=120000, num_shards=1>,\n",
            "    },\n",
            "    citation=\"\"\"@misc{zhang2015characterlevel,\n",
            "        title={Character-level Convolutional Networks for Text Classification},\n",
            "        author={Xiang Zhang and Junbo Zhao and Yann LeCun},\n",
            "        year={2015},\n",
            "        eprint={1509.01626},\n",
            "        archivePrefix={arXiv},\n",
            "        primaryClass={cs.LG}\n",
            "    }\"\"\",\n",
            ")\n",
            "\n"
          ]
        }
      ],
      "source": [
        "!tfds build --register_checksums --datasets=ag_news_subset"
      ]
    },
    {
      "cell_type": "code",
      "execution_count": null,
      "metadata": {
        "id": "a1ZWNOWfLLDR"
      },
      "outputs": [],
      "source": [
        "# https://www.tensorflow.org/datasets/splits\n",
        "# The full `train` and `test` splits, interleaved together.\n",
        "ri = tfds.core.ReadInstruction('train') + tfds.core.ReadInstruction('test')\n",
        "dataset_all, info = tfds.load('ag_news_subset', with_info=True,  split=ri, as_supervised=True)\n",
        "text_only_dataset_all=dataset_all.map(lambda x, y: x)"
      ]
    },
    {
      "cell_type": "markdown",
      "metadata": {
        "id": "Bzs2FWbQIf5m"
      },
      "source": [
        "###  EDA"
      ]
    },
    {
      "cell_type": "markdown",
      "metadata": {
        "id": "m7514-j4I4B-"
      },
      "source": [
        "**Get information about the ag_news_subset dataset. We combined the training and test data for a total of 127,600 news articles.**"
      ]
    },
    {
      "cell_type": "code",
      "execution_count": null,
      "metadata": {
        "colab": {
          "base_uri": "https://localhost:8080/",
          "height": 356
        },
        "id": "w6GaSzMRqrIR",
        "outputId": "a4c9ef61-e88a-475d-c002-21da9e3c6621"
      },
      "outputs": [
        {
          "output_type": "execute_result",
          "data": {
            "text/plain": [
              "                                         description  label\n",
              "0  b'AMD #39;s new dual-core Opteron chip is desi...      3\n",
              "1  b'Reuters - Major League Baseball\\\\Monday anno...      1\n",
              "2  b'President Bush #39;s  quot;revenue-neutral q...      2\n",
              "3  b'Britain will run out of leading scientists u...      3\n",
              "4  b'London, England (Sports Network) - England m...      1\n",
              "5  b'TOKYO - Sony Corp. is banking on the \\\\$3 bi...      0\n",
              "6  b'Giant pandas may well prefer bamboo to lapto...      3\n",
              "7  b'VILNIUS, Lithuania - Lithuania #39;s main pa...      0\n",
              "8  b'Witnesses in the trial of a US soldier charg...      0\n",
              "9  b'Dan Olsen of Ponte Vedra Beach, Fla., shot a...      1"
            ],
            "text/html": [
              "\n",
              "  <div id=\"df-62ec5ea7-880b-4cc4-a60e-2e1ff32fc107\" class=\"colab-df-container\">\n",
              "    <style type=\"text/css\">\n",
              "</style>\n",
              "<table id=\"T_39839\">\n",
              "  <thead>\n",
              "    <tr>\n",
              "      <th class=\"blank level0\" >&nbsp;</th>\n",
              "      <th id=\"T_39839_level0_col0\" class=\"col_heading level0 col0\" >description</th>\n",
              "      <th id=\"T_39839_level0_col1\" class=\"col_heading level0 col1\" >label</th>\n",
              "    </tr>\n",
              "  </thead>\n",
              "  <tbody>\n",
              "    <tr>\n",
              "      <th id=\"T_39839_level0_row0\" class=\"row_heading level0 row0\" >0</th>\n",
              "      <td id=\"T_39839_row0_col0\" class=\"data row0 col0\" >AMD #39;s new dual-core Opteron chip is designed mainly for corporate computing applications, including databases, Web services, and financial transactions.</td>\n",
              "      <td id=\"T_39839_row0_col1\" class=\"data row0 col1\" >3 (Sci/Tech)</td>\n",
              "    </tr>\n",
              "    <tr>\n",
              "      <th id=\"T_39839_level0_row1\" class=\"row_heading level0 row1\" >1</th>\n",
              "      <td id=\"T_39839_row1_col0\" class=\"data row1 col0\" >Reuters - Major League Baseball\\Monday announced a decision on the appeal filed by Chicago Cubs\\pitcher Kerry Wood regarding a suspension stemming from an\\incident earlier this season.</td>\n",
              "      <td id=\"T_39839_row1_col1\" class=\"data row1 col1\" >1 (Sports)</td>\n",
              "    </tr>\n",
              "    <tr>\n",
              "      <th id=\"T_39839_level0_row2\" class=\"row_heading level0 row2\" >2</th>\n",
              "      <td id=\"T_39839_row2_col0\" class=\"data row2 col0\" >President Bush #39;s quot;revenue-neutral quot; tax reform needs losers to balance its winners, and people claiming the federal deduction for state and local taxes may be in administration planners #39; sights, news reports say.</td>\n",
              "      <td id=\"T_39839_row2_col1\" class=\"data row2 col1\" >2 (Business)</td>\n",
              "    </tr>\n",
              "    <tr>\n",
              "      <th id=\"T_39839_level0_row3\" class=\"row_heading level0 row3\" >3</th>\n",
              "      <td id=\"T_39839_row3_col0\" class=\"data row3 col0\" >Britain will run out of leading scientists unless science education is improved, says Professor Colin Pillinger.</td>\n",
              "      <td id=\"T_39839_row3_col1\" class=\"data row3 col1\" >3 (Sci/Tech)</td>\n",
              "    </tr>\n",
              "    <tr>\n",
              "      <th id=\"T_39839_level0_row4\" class=\"row_heading level0 row4\" >4</th>\n",
              "      <td id=\"T_39839_row4_col0\" class=\"data row4 col0\" >London, England (Sports Network) - England midfielder Steven Gerrard injured his groin late in Thursday #39;s training session, but is hopeful he will be ready for Saturday #39;s World Cup qualifier against Austria.</td>\n",
              "      <td id=\"T_39839_row4_col1\" class=\"data row4 col1\" >1 (Sports)</td>\n",
              "    </tr>\n",
              "    <tr>\n",
              "      <th id=\"T_39839_level0_row5\" class=\"row_heading level0 row5\" >5</th>\n",
              "      <td id=\"T_39839_row5_col0\" class=\"data row5 col0\" >TOKYO - Sony Corp. is banking on the \\$3 billion deal to acquire Hollywood studio Metro-Goldwyn-Mayer Inc...</td>\n",
              "      <td id=\"T_39839_row5_col1\" class=\"data row5 col1\" >0 (World)</td>\n",
              "    </tr>\n",
              "    <tr>\n",
              "      <th id=\"T_39839_level0_row6\" class=\"row_heading level0 row6\" >6</th>\n",
              "      <td id=\"T_39839_row6_col0\" class=\"data row6 col0\" >Giant pandas may well prefer bamboo to laptops, but wireless technology is helping researchers in China in their efforts to protect the engandered animals living in the remote Wolong Nature Reserve.</td>\n",
              "      <td id=\"T_39839_row6_col1\" class=\"data row6 col1\" >3 (Sci/Tech)</td>\n",
              "    </tr>\n",
              "    <tr>\n",
              "      <th id=\"T_39839_level0_row7\" class=\"row_heading level0 row7\" >7</th>\n",
              "      <td id=\"T_39839_row7_col0\" class=\"data row7 col0\" >VILNIUS, Lithuania - Lithuania #39;s main parties formed an alliance to try to keep a Russian-born tycoon and his populist promises out of the government in Sunday #39;s second round of parliamentary elections in this Baltic country.</td>\n",
              "      <td id=\"T_39839_row7_col1\" class=\"data row7 col1\" >0 (World)</td>\n",
              "    </tr>\n",
              "    <tr>\n",
              "      <th id=\"T_39839_level0_row8\" class=\"row_heading level0 row8\" >8</th>\n",
              "      <td id=\"T_39839_row8_col0\" class=\"data row8 col0\" >Witnesses in the trial of a US soldier charged with abusing prisoners at Abu Ghraib have told the court that the CIA sometimes directed abuse and orders were received from military command to toughen interrogations.</td>\n",
              "      <td id=\"T_39839_row8_col1\" class=\"data row8 col1\" >0 (World)</td>\n",
              "    </tr>\n",
              "    <tr>\n",
              "      <th id=\"T_39839_level0_row9\" class=\"row_heading level0 row9\" >9</th>\n",
              "      <td id=\"T_39839_row9_col0\" class=\"data row9 col0\" >Dan Olsen of Ponte Vedra Beach, Fla., shot a 7-under 65 Thursday to take a one-shot lead after two rounds of the PGA Tour qualifying tournament.</td>\n",
              "      <td id=\"T_39839_row9_col1\" class=\"data row9 col1\" >1 (Sports)</td>\n",
              "    </tr>\n",
              "  </tbody>\n",
              "</table>\n",
              "\n",
              "    <div class=\"colab-df-buttons\">\n",
              "\n",
              "  <div class=\"colab-df-container\">\n",
              "    <button class=\"colab-df-convert\" onclick=\"convertToInteractive('df-62ec5ea7-880b-4cc4-a60e-2e1ff32fc107')\"\n",
              "            title=\"Convert this dataframe to an interactive table.\"\n",
              "            style=\"display:none;\">\n",
              "\n",
              "  <svg xmlns=\"http://www.w3.org/2000/svg\" height=\"24px\" viewBox=\"0 -960 960 960\">\n",
              "    <path d=\"M120-120v-720h720v720H120Zm60-500h600v-160H180v160Zm220 220h160v-160H400v160Zm0 220h160v-160H400v160ZM180-400h160v-160H180v160Zm440 0h160v-160H620v160ZM180-180h160v-160H180v160Zm440 0h160v-160H620v160Z\"/>\n",
              "  </svg>\n",
              "    </button>\n",
              "\n",
              "  <style>\n",
              "    .colab-df-container {\n",
              "      display:flex;\n",
              "      gap: 12px;\n",
              "    }\n",
              "\n",
              "    .colab-df-convert {\n",
              "      background-color: #E8F0FE;\n",
              "      border: none;\n",
              "      border-radius: 50%;\n",
              "      cursor: pointer;\n",
              "      display: none;\n",
              "      fill: #1967D2;\n",
              "      height: 32px;\n",
              "      padding: 0 0 0 0;\n",
              "      width: 32px;\n",
              "    }\n",
              "\n",
              "    .colab-df-convert:hover {\n",
              "      background-color: #E2EBFA;\n",
              "      box-shadow: 0px 1px 2px rgba(60, 64, 67, 0.3), 0px 1px 3px 1px rgba(60, 64, 67, 0.15);\n",
              "      fill: #174EA6;\n",
              "    }\n",
              "\n",
              "    .colab-df-buttons div {\n",
              "      margin-bottom: 4px;\n",
              "    }\n",
              "\n",
              "    [theme=dark] .colab-df-convert {\n",
              "      background-color: #3B4455;\n",
              "      fill: #D2E3FC;\n",
              "    }\n",
              "\n",
              "    [theme=dark] .colab-df-convert:hover {\n",
              "      background-color: #434B5C;\n",
              "      box-shadow: 0px 1px 3px 1px rgba(0, 0, 0, 0.15);\n",
              "      filter: drop-shadow(0px 1px 2px rgba(0, 0, 0, 0.3));\n",
              "      fill: #FFFFFF;\n",
              "    }\n",
              "  </style>\n",
              "\n",
              "    <script>\n",
              "      const buttonEl =\n",
              "        document.querySelector('#df-62ec5ea7-880b-4cc4-a60e-2e1ff32fc107 button.colab-df-convert');\n",
              "      buttonEl.style.display =\n",
              "        google.colab.kernel.accessAllowed ? 'block' : 'none';\n",
              "\n",
              "      async function convertToInteractive(key) {\n",
              "        const element = document.querySelector('#df-62ec5ea7-880b-4cc4-a60e-2e1ff32fc107');\n",
              "        const dataTable =\n",
              "          await google.colab.kernel.invokeFunction('convertToInteractive',\n",
              "                                                    [key], {});\n",
              "        if (!dataTable) return;\n",
              "\n",
              "        const docLinkHtml = 'Like what you see? Visit the ' +\n",
              "          '<a target=\"_blank\" href=https://colab.research.google.com/notebooks/data_table.ipynb>data table notebook</a>'\n",
              "          + ' to learn more about interactive tables.';\n",
              "        element.innerHTML = '';\n",
              "        dataTable['output_type'] = 'display_data';\n",
              "        await google.colab.output.renderOutput(dataTable, element);\n",
              "        const docLink = document.createElement('div');\n",
              "        docLink.innerHTML = docLinkHtml;\n",
              "        element.appendChild(docLink);\n",
              "      }\n",
              "    </script>\n",
              "  </div>\n",
              "\n",
              "\n",
              "<div id=\"df-bc46a40d-9935-4acf-afe9-9b615845ba41\">\n",
              "  <button class=\"colab-df-quickchart\" onclick=\"quickchart('df-bc46a40d-9935-4acf-afe9-9b615845ba41')\"\n",
              "            title=\"Suggest charts\"\n",
              "            style=\"display:none;\">\n",
              "\n",
              "<svg xmlns=\"http://www.w3.org/2000/svg\" height=\"24px\"viewBox=\"0 0 24 24\"\n",
              "     width=\"24px\">\n",
              "    <g>\n",
              "        <path d=\"M19 3H5c-1.1 0-2 .9-2 2v14c0 1.1.9 2 2 2h14c1.1 0 2-.9 2-2V5c0-1.1-.9-2-2-2zM9 17H7v-7h2v7zm4 0h-2V7h2v10zm4 0h-2v-4h2v4z\"/>\n",
              "    </g>\n",
              "</svg>\n",
              "  </button>\n",
              "\n",
              "<style>\n",
              "  .colab-df-quickchart {\n",
              "      --bg-color: #E8F0FE;\n",
              "      --fill-color: #1967D2;\n",
              "      --hover-bg-color: #E2EBFA;\n",
              "      --hover-fill-color: #174EA6;\n",
              "      --disabled-fill-color: #AAA;\n",
              "      --disabled-bg-color: #DDD;\n",
              "  }\n",
              "\n",
              "  [theme=dark] .colab-df-quickchart {\n",
              "      --bg-color: #3B4455;\n",
              "      --fill-color: #D2E3FC;\n",
              "      --hover-bg-color: #434B5C;\n",
              "      --hover-fill-color: #FFFFFF;\n",
              "      --disabled-bg-color: #3B4455;\n",
              "      --disabled-fill-color: #666;\n",
              "  }\n",
              "\n",
              "  .colab-df-quickchart {\n",
              "    background-color: var(--bg-color);\n",
              "    border: none;\n",
              "    border-radius: 50%;\n",
              "    cursor: pointer;\n",
              "    display: none;\n",
              "    fill: var(--fill-color);\n",
              "    height: 32px;\n",
              "    padding: 0;\n",
              "    width: 32px;\n",
              "  }\n",
              "\n",
              "  .colab-df-quickchart:hover {\n",
              "    background-color: var(--hover-bg-color);\n",
              "    box-shadow: 0 1px 2px rgba(60, 64, 67, 0.3), 0 1px 3px 1px rgba(60, 64, 67, 0.15);\n",
              "    fill: var(--button-hover-fill-color);\n",
              "  }\n",
              "\n",
              "  .colab-df-quickchart-complete:disabled,\n",
              "  .colab-df-quickchart-complete:disabled:hover {\n",
              "    background-color: var(--disabled-bg-color);\n",
              "    fill: var(--disabled-fill-color);\n",
              "    box-shadow: none;\n",
              "  }\n",
              "\n",
              "  .colab-df-spinner {\n",
              "    border: 2px solid var(--fill-color);\n",
              "    border-color: transparent;\n",
              "    border-bottom-color: var(--fill-color);\n",
              "    animation:\n",
              "      spin 1s steps(1) infinite;\n",
              "  }\n",
              "\n",
              "  @keyframes spin {\n",
              "    0% {\n",
              "      border-color: transparent;\n",
              "      border-bottom-color: var(--fill-color);\n",
              "      border-left-color: var(--fill-color);\n",
              "    }\n",
              "    20% {\n",
              "      border-color: transparent;\n",
              "      border-left-color: var(--fill-color);\n",
              "      border-top-color: var(--fill-color);\n",
              "    }\n",
              "    30% {\n",
              "      border-color: transparent;\n",
              "      border-left-color: var(--fill-color);\n",
              "      border-top-color: var(--fill-color);\n",
              "      border-right-color: var(--fill-color);\n",
              "    }\n",
              "    40% {\n",
              "      border-color: transparent;\n",
              "      border-right-color: var(--fill-color);\n",
              "      border-top-color: var(--fill-color);\n",
              "    }\n",
              "    60% {\n",
              "      border-color: transparent;\n",
              "      border-right-color: var(--fill-color);\n",
              "    }\n",
              "    80% {\n",
              "      border-color: transparent;\n",
              "      border-right-color: var(--fill-color);\n",
              "      border-bottom-color: var(--fill-color);\n",
              "    }\n",
              "    90% {\n",
              "      border-color: transparent;\n",
              "      border-bottom-color: var(--fill-color);\n",
              "    }\n",
              "  }\n",
              "</style>\n",
              "\n",
              "  <script>\n",
              "    async function quickchart(key) {\n",
              "      const quickchartButtonEl =\n",
              "        document.querySelector('#' + key + ' button');\n",
              "      quickchartButtonEl.disabled = true;  // To prevent multiple clicks.\n",
              "      quickchartButtonEl.classList.add('colab-df-spinner');\n",
              "      try {\n",
              "        const charts = await google.colab.kernel.invokeFunction(\n",
              "            'suggestCharts', [key], {});\n",
              "      } catch (error) {\n",
              "        console.error('Error during call to suggestCharts:', error);\n",
              "      }\n",
              "      quickchartButtonEl.classList.remove('colab-df-spinner');\n",
              "      quickchartButtonEl.classList.add('colab-df-quickchart-complete');\n",
              "    }\n",
              "    (() => {\n",
              "      let quickchartButtonEl =\n",
              "        document.querySelector('#df-bc46a40d-9935-4acf-afe9-9b615845ba41 button');\n",
              "      quickchartButtonEl.style.display =\n",
              "        google.colab.kernel.accessAllowed ? 'block' : 'none';\n",
              "    })();\n",
              "  </script>\n",
              "</div>\n",
              "\n",
              "    </div>\n",
              "  </div>\n"
            ],
            "application/vnd.google.colaboratory.intrinsic+json": {
              "type": "dataframe",
              "summary": "{\n  \"name\": \"tfds\",\n  \"rows\": 10,\n  \"fields\": [\n    {\n      \"column\": \"description\",\n      \"properties\": {\n        \"dtype\": \"string\",\n        \"num_unique_values\": 10,\n        \"samples\": [\n          \"b'Witnesses in the trial of a US soldier charged with abusing prisoners at Abu Ghraib have told the court that the CIA sometimes directed abuse and orders were received from military command to toughen interrogations.'\",\n          \"b'Reuters - Major League Baseball\\\\\\\\Monday announced a decision on the appeal filed by Chicago Cubs\\\\\\\\pitcher Kerry Wood regarding a suspension stemming from an\\\\\\\\incident earlier this season.'\",\n          \"b'TOKYO - Sony Corp. is banking on the \\\\\\\\$3 billion deal to acquire Hollywood studio Metro-Goldwyn-Mayer Inc...'\"\n        ],\n        \"semantic_type\": \"\",\n        \"description\": \"\"\n      }\n    },\n    {\n      \"column\": \"label\",\n      \"properties\": {\n        \"dtype\": \"number\",\n        \"std\": 1,\n        \"min\": 0,\n        \"max\": 3,\n        \"num_unique_values\": 4,\n        \"samples\": [\n          1,\n          0,\n          3\n        ],\n        \"semantic_type\": \"\",\n        \"description\": \"\"\n      }\n    }\n  ]\n}"
            }
          },
          "metadata": {},
          "execution_count": 12
        }
      ],
      "source": [
        "tfds.as_dataframe(dataset_all.take(10),info)"
      ]
    },
    {
      "cell_type": "markdown",
      "metadata": {
        "id": "RoG_cOcMMKgC"
      },
      "source": [
        "### Review Labels (Categories)"
      ]
    },
    {
      "cell_type": "code",
      "execution_count": null,
      "metadata": {
        "colab": {
          "base_uri": "https://localhost:8080/"
        },
        "id": "4uBCsL_8tTUU",
        "outputId": "8b1f707f-15fb-46de-fb6e-70d8d839cfad"
      },
      "outputs": [
        {
          "output_type": "stream",
          "name": "stdout",
          "text": [
            "Dictionary:  {0: 'World', 1: 'Sports', 2: 'Business', 3: 'Sci/Tech'}\n"
          ]
        }
      ],
      "source": [
        "categories =dict(enumerate(info.features[\"label\"].names))\n",
        "print(f'Dictionary: ',categories)"
      ]
    },
    {
      "cell_type": "markdown",
      "metadata": {
        "id": "v0TskodXzP1F"
      },
      "source": [
        "### Review Class Balance\n",
        "The 127,600 news articles are evenly distributed among the 4 categories"
      ]
    },
    {
      "cell_type": "code",
      "execution_count": null,
      "metadata": {
        "colab": {
          "base_uri": "https://localhost:8080/"
        },
        "id": "PRtOaULstTbJ",
        "outputId": "4ca12cbc-110f-482d-e927-d79163fae7fe"
      },
      "outputs": [
        {
          "output_type": "execute_result",
          "data": {
            "text/plain": [
              "[('Sci/Tech', 31900), ('Sports', 31900), ('Business', 31900), ('World', 31900)]"
            ]
          },
          "metadata": {},
          "execution_count": 9
        }
      ],
      "source": [
        "train_categories = [categories[label] for label in dataset_all.map(lambda text, label: label).as_numpy_iterator()]\n",
        "Counter(train_categories).most_common()"
      ]
    },
    {
      "cell_type": "code",
      "source": [
        "# Total training records\n",
        "len(train_categories)"
      ],
      "metadata": {
        "colab": {
          "base_uri": "https://localhost:8080/"
        },
        "id": "Uv_6Uzp9XkSc",
        "outputId": "89d34a6d-f232-41c5-f2c5-1d712bb18fe4"
      },
      "execution_count": null,
      "outputs": [
        {
          "output_type": "execute_result",
          "data": {
            "text/plain": [
              "127600"
            ]
          },
          "metadata": {},
          "execution_count": 10
        }
      ]
    },
    {
      "cell_type": "markdown",
      "metadata": {
        "id": "-ez6OmV7zP1G"
      },
      "source": [
        "### Preprocess Dataset for EDA"
      ]
    },
    {
      "cell_type": "code",
      "source": [
        "nltk.download('stopwords',quiet=True)\n",
        "STOPWORDS = set(stopwords.words(\"english\"))\n",
        "custom_articles = {\"the\", \"a\", \"an\"}\n",
        "STOPWORDS.update(custom_articles)\n"
      ],
      "metadata": {
        "id": "_icpu8zmsDJ0"
      },
      "execution_count": null,
      "outputs": []
    },
    {
      "cell_type": "code",
      "execution_count": null,
      "metadata": {
        "id": "hRDTSmT2zP1G"
      },
      "outputs": [],
      "source": [
        "def custom_stopwords(input_text):\n",
        "    lowercase = tf.strings.lower(input_text)\n",
        "    stripped_punct = tf.strings.regex_replace(lowercase\n",
        "                                  ,'[%s]' % re.escape(string.punctuation)\n",
        "                                  ,'')\n",
        "    return tf.strings.regex_replace(stripped_punct, r'\\b(' + r'|'.join(STOPWORDS) + r')\\b\\s*',\"\")\n"
      ]
    },
    {
      "cell_type": "markdown",
      "metadata": {
        "id": "p2Dapu4RzP1H"
      },
      "source": [
        "### TextVectorization and Adapt() Vocabulary"
      ]
    },
    {
      "cell_type": "markdown",
      "source": [
        "# Max tokens, no limit"
      ],
      "metadata": {
        "id": "2ZwRAzTUY2m_"
      }
    },
    {
      "cell_type": "code",
      "execution_count": null,
      "metadata": {
        "colab": {
          "base_uri": "https://localhost:8080/"
        },
        "id": "GwRATAOuzP1H",
        "outputId": "217246bb-3da9-45a2-eb4e-b7a2a87cc685"
      },
      "outputs": [
        {
          "output_type": "stream",
          "name": "stdout",
          "text": [
            "CPU times: user 4min 37s, sys: 29.8 s, total: 5min 7s\n",
            "Wall time: 4min 22s\n"
          ]
        }
      ],
      "source": [
        "%%time\n",
        "max_tokens = None\n",
        "text_vectorization=layers.TextVectorization(\n",
        "    max_tokens=max_tokens,\n",
        "    output_mode=\"int\",\n",
        "    standardize=custom_stopwords\n",
        ")\n",
        "text_vectorization.adapt(text_only_dataset_all)"
      ]
    },
    {
      "cell_type": "code",
      "execution_count": null,
      "metadata": {
        "colab": {
          "base_uri": "https://localhost:8080/"
        },
        "id": "hlW5u8cZzP1I",
        "outputId": "628cf884-5c41-42bd-aacd-94933333d56a"
      },
      "outputs": [
        {
          "output_type": "stream",
          "name": "stdout",
          "text": [
            "CPU times: user 17min 44s, sys: 53.5 s, total: 18min 37s\n",
            "Wall time: 18min 21s\n"
          ]
        }
      ],
      "source": [
        "%%time\n",
        "doc_sizes = []\n",
        "corpus = []\n",
        "for example, _ in dataset_all.as_numpy_iterator():\n",
        "  enc_example = text_vectorization(example)\n",
        "  doc_sizes.append(len(enc_example))\n",
        "  corpus+=list(enc_example.numpy())"
      ]
    },
    {
      "cell_type": "code",
      "execution_count": null,
      "metadata": {
        "colab": {
          "base_uri": "https://localhost:8080/"
        },
        "id": "VsGMlQIpzP1J",
        "outputId": "812aec60-00c9-4c2f-b04b-7e528f27f7e3"
      },
      "outputs": [
        {
          "output_type": "stream",
          "name": "stdout",
          "text": [
            "There are 2579419 words in the corpus of 127600 news articles.\n",
            "Each news article has between 2 and 95 tokens in it.\n"
          ]
        }
      ],
      "source": [
        "print(f\"There are {len(corpus)} words in the corpus of {len(doc_sizes)} news articles.\")\n",
        "print(f\"Each news article has between {min(doc_sizes)} and {max(doc_sizes)} tokens in it.\")"
      ]
    },
    {
      "cell_type": "code",
      "execution_count": null,
      "metadata": {
        "colab": {
          "base_uri": "https://localhost:8080/"
        },
        "id": "lFoEFpo5zP1J",
        "outputId": "460365b0-614a-40af-a116-5b783720173a"
      },
      "outputs": [
        {
          "output_type": "stream",
          "name": "stdout",
          "text": [
            "There are 95827 vocabulary words in the corpus.\n"
          ]
        }
      ],
      "source": [
        "print(f\"There are {len(text_vectorization.get_vocabulary())} vocabulary words in the corpus.\")"
      ]
    },
    {
      "cell_type": "code",
      "execution_count": null,
      "metadata": {
        "colab": {
          "base_uri": "https://localhost:8080/"
        },
        "id": "538r76jTzP1K",
        "outputId": "24b2b13d-ea1b-4c55-80b5-92458ee97ba5"
      },
      "outputs": [
        {
          "output_type": "stream",
          "name": "stdout",
          "text": [
            "['' '[UNK]' '39s' 'said' 'new' 'us' 'reuters' 'ap' 'two' 'first' 'monday'\n",
            " 'wednesday' 'tuesday' 'thursday' 'company' 'friday' 'inc' 'one' 'world'\n",
            " 'yesterday' 'last' 'york' 'year' 'president' 'million' 'oil' 'corp'\n",
            " 'united' 'would' 'sunday' 'years' 'week' 'people' 'today' 'three'\n",
            " 'government' 'could' 'quot' 'group' 'time' 'percent' 'game' 'saturday'\n",
            " 'software' 'night' 'next' 'prices' 'iraq' 'security' 'announced']\n"
          ]
        }
      ],
      "source": [
        "vocab = np.array(text_vectorization.get_vocabulary())\n",
        "print(vocab[:50])"
      ]
    },
    {
      "cell_type": "code",
      "execution_count": null,
      "metadata": {
        "colab": {
          "base_uri": "https://localhost:8080/",
          "height": 773
        },
        "id": "ifIAXXIjzP1L",
        "outputId": "cfc1c809-0b76-4ab6-d581-2262b4dfe14c"
      },
      "outputs": [
        {
          "output_type": "display_data",
          "data": {
            "text/plain": [
              "<Figure size 1500x900 with 1 Axes>"
            ],
            "image/png": "[encoded data removed]"
          },
          "metadata": {}
        }
      ],
      "source": [
        "plt.figure(figsize=(15,9))\n",
        "plt.hist(doc_sizes, bins=20,range = (0,80))\n",
        "plt.xlabel(\"Tokens Per Document\")\n",
        "plt.ylabel(\"Number of AG News Articles\");"
      ]
    },
    {
      "cell_type": "code",
      "execution_count": null,
      "metadata": {
        "colab": {
          "base_uri": "https://localhost:8080/"
        },
        "id": "leF08syWLhGc",
        "outputId": "2cba6d1b-3228-4bda-8017-bc7a1cef9c9b"
      },
      "outputs": [
        {
          "output_type": "stream",
          "name": "stdout",
          "text": [
            "Last Run: 2024-05-01 19:01:31\n"
          ]
        }
      ],
      "source": [
        "# Time Stamp\n",
        "current_time = datetime.datetime.now()\n",
        "formatted_time = current_time.strftime(\"%Y-%m-%d %H:%M:%S\")\n",
        "\n",
        "# Print the formatted time\n",
        "print(\"Last Run:\", formatted_time)"
      ]
    },
    {
      "cell_type": "code",
      "source": [
        "#Percentage of documents that have less than 30 words\n",
        "n = 30\n",
        "print(\"{0:.1%} of doc's have less than\".format(sum(i <= n for i in doc_sizes)/ len(doc_sizes)), n, \"words\")"
      ],
      "metadata": {
        "colab": {
          "base_uri": "https://localhost:8080/"
        },
        "id": "B44lktPZup_4",
        "outputId": "2b506aaf-732b-4341-8449-e5b163e756cf"
      },
      "execution_count": null,
      "outputs": [
        {
          "output_type": "stream",
          "name": "stdout",
          "text": [
            "50.7% of doc's have less than 30 words\n"
          ]
        }
      ]
    },
    {
      "cell_type": "markdown",
      "source": [
        "#Vocabulary size testing"
      ],
      "metadata": {
        "id": "2mCc24VWY82i"
      }
    },
    {
      "cell_type": "code",
      "source": [
        "# Set vocabulary size to 1000\n",
        "max_tokens = 1000\n",
        "text_vectorization = TextVectorization(\n",
        "    max_tokens=max_tokens,\n",
        "    output_mode=\"int\",\n",
        "    standardize=custom_stopwords\n",
        ")\n",
        "text_vectorization.adapt(text_only_dataset_all)\n",
        "\n",
        "\n",
        "doc_sizes = []\n",
        "corpus = []\n",
        "blank_word_counts = []\n",
        "for example, _ in dataset_all.as_numpy_iterator():\n",
        "    enc_example = text_vectorization(example)\n",
        "    doc_sizes.append(len(enc_example))\n",
        "    corpus += list(enc_example.numpy())\n",
        "    # Counting instances of '1', which represent OOV words\n",
        "    blank_word_counts.append(np.count_nonzero(enc_example == 1))\n",
        "\n",
        "print(f\"There are {len(corpus)} words in the corpus of {len(doc_sizes)} news articles.\")\n",
        "print(f\"Each news article has between {min(doc_sizes)} and {max(doc_sizes)} tokens in it.\")\n",
        "print(f\"There are {len(text_vectorization.get_vocabulary())} vocabulary words in the corpus.\")\n",
        "\n",
        "vocab = np.array(text_vectorization.get_vocabulary())\n",
        "print(vocab[:50])\n"
      ],
      "metadata": {
        "colab": {
          "base_uri": "https://localhost:8080/"
        },
        "id": "92fzK9shZYLq",
        "outputId": "ef197c7e-e121-4228-a54f-43eed7be8730"
      },
      "execution_count": null,
      "outputs": [
        {
          "output_type": "stream",
          "name": "stdout",
          "text": [
            "There are 2579419 words in the corpus of 127600 news articles.\n",
            "Each news article has between 2 and 95 tokens in it.\n",
            "There are 1000 vocabulary words in the corpus.\n",
            "['' '[UNK]' '39s' 'said' 'new' 'us' 'reuters' 'ap' 'two' 'first' 'monday'\n",
            " 'wednesday' 'tuesday' 'thursday' 'company' 'friday' 'inc' 'one' 'world'\n",
            " 'yesterday' 'last' 'york' 'year' 'president' 'million' 'oil' 'corp'\n",
            " 'united' 'would' 'sunday' 'years' 'week' 'people' 'today' 'three'\n",
            " 'government' 'could' 'quot' 'group' 'time' 'percent' 'game' 'saturday'\n",
            " 'software' 'night' 'next' 'prices' 'iraq' 'security' 'announced']\n"
          ]
        }
      ]
    },
    {
      "cell_type": "code",
      "source": [
        "print(enc_example[:10])  # Print first 10 tokens of an encoded example\n"
      ],
      "metadata": {
        "colab": {
          "base_uri": "https://localhost:8080/"
        },
        "id": "rwNsNU7yXydM",
        "outputId": "05f3f525-80fa-40fa-e3f4-83db4e2cc9cd"
      },
      "execution_count": null,
      "outputs": [
        {
          "output_type": "stream",
          "name": "stdout",
          "text": [
            "tf.Tensor([ 84 419 286 151 723  92 560   1   1   1], shape=(10,), dtype=int64)\n"
          ]
        }
      ]
    },
    {
      "cell_type": "code",
      "source": [
        "# Calculate the percentage of blank words per document\n",
        "percents100 = [100 * blanks / (size if size > 0 else 1) for blanks, size in zip(blank_word_counts, doc_sizes)]\n",
        "\n",
        "# Median and average of percentage of non-vocab words per document\n",
        "print(\"Median: \", np.median(percents100))\n",
        "print(\"Average: \", np.average(percents100))\n",
        "\n",
        "# Calculate the percentage of documents with more than n% blank words\n",
        "n = 50\n",
        "percent_documents_with_blanks = sum(p > n for p in percents100) / len(percents100) * 100\n",
        "print(f\"{percent_documents_with_blanks:.1f}% of documents have more than {n}% blank words.\")\n",
        "\n",
        "# Visualizing results\n",
        "plt.figure(figsize=(15,9))\n",
        "plt.hist(percents100, 20)\n",
        "plt.ylabel('Number of Documents')\n",
        "plt.xlabel('Percentage of out-of-vocabulary (OOV) words')\n",
        "plt.show()"
      ],
      "metadata": {
        "colab": {
          "base_uri": "https://localhost:8080/",
          "height": 828
        },
        "id": "-erZAUpM3q1q",
        "outputId": "8e598fe7-3b30-4828-ac84-9e6c9e01a70b"
      },
      "execution_count": null,
      "outputs": [
        {
          "output_type": "stream",
          "name": "stdout",
          "text": [
            "Median:  48.0\n",
            "Average:  48.842320375265025\n",
            "42.3% of documents have more than 50% blank words.\n"
          ]
        },
        {
          "output_type": "display_data",
          "data": {
            "text/plain": [
              "<Figure size 1500x900 with 1 Axes>"
            ],
            "image/png": "[encoded data removed]"
          },
          "metadata": {}
        }
      ]
    },
    {
      "cell_type": "code",
      "source": [
        "# Set vocabulary size to 3000\n",
        "max_tokens = 3000\n",
        "text_vectorization = TextVectorization(\n",
        "    max_tokens=max_tokens,\n",
        "    output_mode=\"int\",\n",
        "    standardize=custom_stopwords\n",
        ")\n",
        "text_vectorization.adapt(text_only_dataset_all)\n",
        "\n",
        "# Collect and analyze document sizes and count blank words\n",
        "doc_sizes = []\n",
        "corpus = []\n",
        "blank_word_counts = []\n",
        "for example, _ in dataset_all.as_numpy_iterator():\n",
        "    enc_example = text_vectorization(example)\n",
        "    doc_sizes.append(len(enc_example))\n",
        "    corpus += list(enc_example.numpy())\n",
        "    # Counting instances of '1', which represent OOV words\n",
        "    blank_word_counts.append(np.count_nonzero(enc_example == 1))\n",
        "\n",
        "# Output some statistics and the first 50 vocabulary words\n",
        "print(f\"There are {len(corpus)} words in the corpus of {len(doc_sizes)} news articles.\")\n",
        "print(f\"Each news article has between {min(doc_sizes)} and {max(doc_sizes)} tokens in it.\")\n",
        "print(f\"There are {len(text_vectorization.get_vocabulary())} vocabulary words in the corpus.\")\n",
        "vocab = np.array(text_vectorization.get_vocabulary())\n",
        "print(vocab[:50])"
      ],
      "metadata": {
        "colab": {
          "base_uri": "https://localhost:8080/"
        },
        "id": "i5L8HX0kx0ks",
        "outputId": "d143536e-baa7-4cec-99cc-44724965f5a5"
      },
      "execution_count": null,
      "outputs": [
        {
          "output_type": "stream",
          "name": "stdout",
          "text": [
            "There are 2579419 words in the corpus of 127600 news articles.\n",
            "Each news article has between 2 and 95 tokens in it.\n",
            "There are 3000 vocabulary words in the corpus.\n",
            "['' '[UNK]' '39s' 'said' 'new' 'us' 'reuters' 'ap' 'two' 'first' 'monday'\n",
            " 'wednesday' 'tuesday' 'thursday' 'company' 'friday' 'inc' 'one' 'world'\n",
            " 'yesterday' 'last' 'york' 'year' 'president' 'million' 'oil' 'corp'\n",
            " 'united' 'would' 'sunday' 'years' 'week' 'people' 'today' 'three'\n",
            " 'government' 'could' 'quot' 'group' 'time' 'percent' 'game' 'saturday'\n",
            " 'software' 'night' 'next' 'prices' 'iraq' 'security' 'announced']\n"
          ]
        }
      ]
    },
    {
      "cell_type": "code",
      "source": [
        "# Calculate the percentage of blank words per document\n",
        "percents100 = [100 * blanks / (size if size > 0 else 1) for blanks, size in zip(blank_word_counts, doc_sizes)]\n",
        "\n",
        "# Median and average of percentage of non-vocab words per document\n",
        "print(\"Median: \", np.median(percents100))\n",
        "print(\"Average: \", np.average(percents100))\n",
        "\n",
        "# Calculate the percentage of documents with more than n% blank words\n",
        "n = 50\n",
        "percent_documents_with_blanks = sum(p > n for p in percents100) / len(percents100) * 100\n",
        "print(f\"{percent_documents_with_blanks:.1f}% of documents have more than {n}% blank words.\")\n",
        "\n",
        "# Visualizing results\n",
        "plt.figure(figsize=(15,9))\n",
        "plt.hist(percents100, bins=20, color='blue', edgecolor='black')\n",
        "plt.ylabel('Number of Documents')\n",
        "plt.xlabel('Percentage of Out-of-Vocabulary (OOV) Words in a Document')\n",
        "plt.title('Distribution of OOV Words Across Documents')\n",
        "plt.axvline(np.median(percents100), color='red', linestyle='dashed', linewidth=1, label=f'Median: {np.median(percents100):.2f}%')\n",
        "plt.axvline(np.average(percents100), color='green', linestyle='dashed', linewidth=1, label=f'Average: {np.average(percents100):.2f}%')\n",
        "plt.legend()\n",
        "plt.show()\n"
      ],
      "metadata": {
        "colab": {
          "base_uri": "https://localhost:8080/",
          "height": 850
        },
        "id": "zv-M2lqhe1V6",
        "outputId": "4ac673eb-773c-42ff-8d6e-cc250865fda4"
      },
      "execution_count": null,
      "outputs": [
        {
          "output_type": "stream",
          "name": "stdout",
          "text": [
            "Median:  27.586206896551722\n",
            "Average:  28.77622505245074\n",
            "5.9% of documents have more than 50% blank words.\n"
          ]
        },
        {
          "output_type": "display_data",
          "data": {
            "text/plain": [
              "<Figure size 1500x900 with 1 Axes>"
            ],
            "image/png": "[encoded data removed]"
          },
          "metadata": {}
        }
      ]
    },
    {
      "cell_type": "code",
      "source": [
        "# Set vocabulary size to 5000\n",
        "max_tokens = 5000\n",
        "text_vectorization = TextVectorization(\n",
        "    max_tokens=max_tokens,\n",
        "    output_mode=\"int\",\n",
        "    standardize=custom_stopwords\n",
        ")\n",
        "text_vectorization.adapt(text_only_dataset_all)\n",
        "\n",
        "# Collect and analyze document sizes and count blank words\n",
        "doc_sizes = []\n",
        "corpus = []\n",
        "blank_word_counts = []\n",
        "for example, _ in dataset_all.as_numpy_iterator():\n",
        "    enc_example = text_vectorization(example)\n",
        "    doc_sizes.append(len(enc_example))\n",
        "    corpus += list(enc_example.numpy())\n",
        "    # Counting instances of '1', which represent OOV words\n",
        "    blank_word_counts.append(np.count_nonzero(enc_example == 1))\n",
        "\n",
        "# Output some statistics and the first 50 vocabulary words\n",
        "print(f\"There are {len(corpus)} words in the corpus of {len(doc_sizes)} news articles.\")\n",
        "print(f\"Each news article has between {min(doc_sizes)} and {max(doc_sizes)} tokens in it.\")\n",
        "print(f\"There are {len(text_vectorization.get_vocabulary())} vocabulary words in the corpus.\")\n",
        "vocab = np.array(text_vectorization.get_vocabulary())\n",
        "print(vocab[:50])"
      ],
      "metadata": {
        "colab": {
          "base_uri": "https://localhost:8080/"
        },
        "id": "xPzbQGQFyAuf",
        "outputId": "a8dc38e3-9be6-40d4-d102-aca9f216e929"
      },
      "execution_count": null,
      "outputs": [
        {
          "output_type": "stream",
          "name": "stdout",
          "text": [
            "There are 2579419 words in the corpus of 127600 news articles.\n",
            "Each news article has between 2 and 95 tokens in it.\n",
            "There are 5000 vocabulary words in the corpus.\n",
            "['' '[UNK]' '39s' 'said' 'new' 'us' 'reuters' 'ap' 'two' 'first' 'monday'\n",
            " 'wednesday' 'tuesday' 'thursday' 'company' 'friday' 'inc' 'one' 'world'\n",
            " 'yesterday' 'last' 'york' 'year' 'president' 'million' 'oil' 'corp'\n",
            " 'united' 'would' 'sunday' 'years' 'week' 'people' 'today' 'three'\n",
            " 'government' 'could' 'quot' 'group' 'time' 'percent' 'game' 'saturday'\n",
            " 'software' 'night' 'next' 'prices' 'iraq' 'security' 'announced']\n"
          ]
        }
      ]
    },
    {
      "cell_type": "code",
      "source": [
        "# Calculate the percentage of blank words per document\n",
        "percents100 = [100 * blanks / (size if size > 0 else 1) for blanks, size in zip(blank_word_counts, doc_sizes)]\n",
        "\n",
        "# Median and average of percentage of non-vocab words per document\n",
        "print(\"Median: \", np.median(percents100))\n",
        "print(\"Average: \", np.average(percents100))\n",
        "\n",
        "# Calculate the percentage of documents with more than n% blank words\n",
        "n = 50\n",
        "percent_documents_with_blanks = sum(p > n for p in percents100) / len(percents100) * 100\n",
        "print(f\"{percent_documents_with_blanks:.1f}% of documents have more than {n}% blank words.\")\n",
        "\n",
        "# Visualizing results\n",
        "plt.figure(figsize=(15,9))\n",
        "plt.hist(percents100, bins=20, color='blue', edgecolor='black')\n",
        "plt.ylabel('Number of Documents')\n",
        "plt.xlabel('Percentage of Out-of-Vocabulary (OOV) Words in a Document')\n",
        "plt.title('Distribution of OOV Words Across Documents')\n",
        "plt.axvline(np.median(percents100), color='red', linestyle='dashed', linewidth=1, label=f'Median: {np.median(percents100):.2f}%')\n",
        "plt.axvline(np.average(percents100), color='green', linestyle='dashed', linewidth=1, label=f'Average: {np.average(percents100):.2f}%')\n",
        "plt.legend()\n",
        "plt.show()"
      ],
      "metadata": {
        "colab": {
          "base_uri": "https://localhost:8080/",
          "height": 850
        },
        "id": "QbqgkVplhvpO",
        "outputId": "152f5582-b21a-48e0-943b-b24795cbccae"
      },
      "execution_count": null,
      "outputs": [
        {
          "output_type": "stream",
          "name": "stdout",
          "text": [
            "Median:  18.75\n",
            "Average:  20.409266045192187\n",
            "1.6% of documents have more than 50% blank words.\n"
          ]
        },
        {
          "output_type": "display_data",
          "data": {
            "text/plain": [
              "<Figure size 1500x900 with 1 Axes>"
            ],
            "image/png": "[encoded data removed]"
          },
          "metadata": {}
        }
      ]
    },
    {
      "cell_type": "code",
      "source": [],
      "metadata": {
        "id": "RKQ6eZwT69Gu"
      },
      "execution_count": null,
      "outputs": []
    }
  ],
  "metadata": {
    "accelerator": "GPU",
    "colab": {
      "gpuType": "T4",
      "machine_shape": "hm",
      "provenance": []
    },
    "kernelspec": {
      "display_name": "Python 3 (ipykernel)",
      "language": "python",
      "name": "python3"
    },
    "language_info": {
      "codemirror_mode": {
        "name": "ipython",
        "version": 3
      },
      "file_extension": ".py",
      "mimetype": "text/x-python",
      "name": "python",
      "nbconvert_exporter": "python",
      "pygments_lexer": "ipython3",
      "version": "3.9.13"
    },
    "toc": {
      "base_numbering": 1,
      "nav_menu": {},
      "number_sections": false,
      "sideBar": true,
      "skip_h1_title": false,
      "title_cell": "Table of Contents",
      "title_sidebar": "Contents",
      "toc_cell": false,
      "toc_position": {},
      "toc_section_display": true,
      "toc_window_display": false
    }
  },
  "nbformat": 4,
  "nbformat_minor": 0
}